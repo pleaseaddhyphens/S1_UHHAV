{
 "cells": [
  {
   "cell_type": "code",
   "execution_count": 12,
   "id": "ff1d585d",
   "metadata": {},
   "outputs": [],
   "source": [
    "import math\n",
    "\n",
    "p_bat = 200 #it can be changed by watt\n",
    "coef = 0.6 #it can be changed to 0.12\n",
    "p_final = 2000\n",
    "price = 10248 #it can be changed by pannels\n",
    "weight = 11.1 #it can be changed by weight of different variance of panels\n",
    "quantity_panels = p_final / (p_bat * coef)\n",
    "weight_final = quantity_panels * weight\n",
    "price_final = quantity_panels * price"
   ]
  },
  {
   "cell_type": "code",
   "execution_count": 17,
   "id": "d75e63aa",
   "metadata": {},
   "outputs": [
    {
     "name": "stdout",
     "output_type": "stream",
     "text": [
      "17 quantity\n",
      "185 kg\n",
      "170800 rub\n"
     ]
    }
   ],
   "source": [
    "print(math.ceil(quantity_panels), \"quantity\")\n",
    "print(math.ceil(weight_final), \"kg\")\n",
    "print(math.ceil(price_final), \"rub\")"
   ]
  }
 ],
 "metadata": {
  "kernelspec": {
   "display_name": "Python 3 (ipykernel)",
   "language": "python",
   "name": "python3"
  },
  "language_info": {
   "codemirror_mode": {
    "name": "ipython",
    "version": 3
   },
   "file_extension": ".py",
   "mimetype": "text/x-python",
   "name": "python",
   "nbconvert_exporter": "python",
   "pygments_lexer": "ipython3",
   "version": "3.11.5"
  }
 },
 "nbformat": 4,
 "nbformat_minor": 5
}
