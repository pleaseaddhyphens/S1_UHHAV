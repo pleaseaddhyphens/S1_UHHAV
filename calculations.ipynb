{
 "cells": [
  {
   "cell_type": "markdown",
   "metadata": {},
   "source": [
    "Bouyancy calculation"
   ]
  },
  {
   "cell_type": "code",
   "execution_count": 5,
   "metadata": {},
   "outputs": [
    {
     "name": "stdout",
     "output_type": "stream",
     "text": [
      "Availible mass for floating in the 20000 m altitude: 372.383 kg\n"
     ]
    }
   ],
   "source": [
    "import numpy as np\n",
    "# initially consider sphere parametets, SI measurement system ( m, kg, s)\n",
    "\n",
    "alt = 20000 # [m]\n",
    "d = 10 #[m]\n",
    "volume = 4/3 * np.pi * d **3 #  replace with new volume [kg/m^3]\n",
    "Volume_streamlined_shape = 27.48 # [m^3]\n",
    "C_d = 0.15 # Calculated by Solidworks based on my geometry\n",
    "Surface_area = 365 #[m^2]\n",
    "Velocity = 50 #[m/s]\n",
    "Ref_area = (Volume_streamlined_shape)**(2/3) #[m^s]\n",
    "Density_air = 1.293 #[kg/m^-3]\n",
    "\n",
    "def ro(h):\n",
    "    # tabular data ro is 0.0889\n",
    "    ro_srat = 1.204 * np.exp(-10000/10400) # density till 11 km altitude\n",
    "    ro_trop = ro_srat * np.exp(-(h-10000)/6300) #density in the tropo pause (11-20 km)\n",
    "    return ro_trop\n",
    "\n",
    "def lift(v, h):\n",
    "    bf  = 0.0889 * v * 9.8 #Archimides forse [N]\n",
    "    all_m = bf/9.8 # availible mass to floal\n",
    "    return all_m\n",
    "\n",
    "m = lift(volume, alt)\n",
    "\n",
    "print(f\"Availible mass for floating in the {alt} m altitude: {np.round(m,3)} kg\")"
    "\n",
    "def calculate_and_print_drag_force(Density_air, Velocity, Ref_area, C_d):
    
    "   drag_force = 0.5 * Density_air * Velocity**2 * Ref_area * C_d #[N]\n",
    "   print(f"Drag force = {drag_force} N")

    "calculate_and_print_drag_force(Density_air, Velocity, Ref_area, C_d)\n",

   ]
  }
 ],
 "metadata": {
  "kernelspec": {
   "display_name": "Python 3",
   "language": "python",
   "name": "python3"
  },
  "language_info": {
   "codemirror_mode": {
    "name": "ipython",
    "version": 3
   },
   "file_extension": ".py",
   "mimetype": "text/x-python",
   "name": "python",
   "nbconvert_exporter": "python",
   "pygments_lexer": "ipython3",
   "version": "3.12.0"
  }
 },
 "nbformat": 4,
 "nbformat_minor": 2
}
